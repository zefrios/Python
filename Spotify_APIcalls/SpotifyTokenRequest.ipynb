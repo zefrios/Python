{
 "cells": [
  {
   "cell_type": "markdown",
   "metadata": {},
   "source": [
    "# Shiny App: Song Suggester, part I: Spotify's API Calls.\n",
    "***\n",
    "## About the project\n",
    "\n",
    "This notebook demonstrates the process of making API calls to Spotify using Python. Initially, it involves obtaining an access token and then retrieves an artist's ID and name, which are provided directly by the app user. Following this, the notebook fetches a list of artists related to the input artist and their top tracks. Once this data is collected, a main() function is called to process and organize this information into a dataframe. This dataframe is then utilized in R, specifically for visualization in a Shiny app.\n"
   ]
  },
  {
   "cell_type": "markdown",
   "metadata": {},
   "source": [
    "First, we import the necessary libraries:\n"
   ]
  },
  {
   "cell_type": "code",
   "execution_count": 4,
   "metadata": {},
   "outputs": [],
   "source": [
    "import requests                      #sends request to API\n",
    "import pandas as pd                  #manipulates data \n",
    "from dotenv import load_dotenv       #storing sensitive information in environment variables\n",
    "\n",
    "import base64                        #encoding credentials for API authentification\n",
    "import os                            #retrieving sensitive information from environment variables"
   ]
  },
  {
   "cell_type": "markdown",
   "metadata": {},
   "source": [
    "The .env file with the access credentials is retrieved:  \n",
    "* Note that this step is taken because a .env file was previously created to store sensitive information. In this case, my own *client_id* and *client_secret*."
   ]
  },
  {
   "cell_type": "code",
   "execution_count": null,
   "metadata": {},
   "outputs": [],
   "source": [
    "load_dotenv(\"YourProjectFileName/.env\")"
   ]
  },
  {
   "cell_type": "markdown",
   "metadata": {},
   "source": [
    "This way we can get the acces tokens for the API through a Python function:\n",
    "\n",
    "* *client_id* and *client_secret* need to be obtained directly from the [Spotify developer site](https://developer.spotify.com/documentation/web-api)."
   ]
  },
  {
   "cell_type": "code",
   "execution_count": null,
   "metadata": {},
   "outputs": [],
   "source": [
    "def get_spotify_access_token():\n",
    "\n",
    "    client_id = os.getenv(\"SPOTIFY_CLIENT_ID\") \n",
    "    client_secret = os.getenv(\"SPOTIFY_CLIENT_SECRET\")      \n",
    "    auth_url = \"https://accounts.spotify.com/api/token\"\n",
    "    credentials_b64 = base64.b64encode(f\"{client_id}:{client_secret}\".encode()).decode()\n",
    "\n",
    "    headers = {\"Authorization\": f\"Basic {credentials_b64}\"}\n",
    "    payload = {\"grant_type\": \"client_credentials\"}\n",
    "\n",
    "    response = requests.post(auth_url, headers=headers, data=payload)\n",
    "    response.raise_for_status()\n",
    "    access_token = response.json()['access_token']\n",
    "    return access_token"
   ]
  },
  {
   "cell_type": "markdown",
   "metadata": {},
   "source": [
    "Functions for retrieving the artist ID, artist name, and its related artists :"
   ]
  },
  {
   "cell_type": "code",
   "execution_count": null,
   "metadata": {},
   "outputs": [],
   "source": [
    "def get_artist_id(artist_name, access_token):\n",
    "\n",
    "    search_url = \"https://api.spotify.com/v1/search\"\n",
    "    headers = {\"Authorization\": f\"Bearer {access_token}\"}\n",
    "    params = {\"q\": artist_name, \"type\": \"artist\", \"limit\": 1}\n",
    "    response = requests.get(search_url, headers=headers, params=params)\n",
    "    response.raise_for_status()\n",
    "    data = response.json()\n",
    "    return data['artists']['items'][0]['id'] if data['artists']['items'] else None\n",
    "\n",
    "def get_related_artists(artist_id, access_token):\n",
    "\n",
    "    related_artists_url = f\"https://api.spotify.com/v1/artists/{artist_id}/related-artists\"\n",
    "    headers = {\"Authorization\": f\"Bearer {access_token}\"}\n",
    "    response = requests.get(related_artists_url, headers=headers)\n",
    "    response.raise_for_status()\n",
    "    data = response.json()\n",
    "    return data['artists']"
   ]
  },
  {
   "cell_type": "markdown",
   "metadata": {},
   "source": [
    "The function to get the suggested artists' top tracks needs to change a bit. In this case, we would need to iterate through the *'tracks'* list to access some features of the songs like its names, popularity indexes and its URLs. This is done so that we can identify each song by name, sort them by popularity and provide a direct link to each song."
   ]
  },
  {
   "cell_type": "code",
   "execution_count": null,
   "metadata": {},
   "outputs": [],
   "source": [
    "def get_top_tracks_for_artists(artist_ids, access_token, market):\n",
    "    top_tracks = []\n",
    "\n",
    "    for artist_id in artist_ids:\n",
    "        top_tracks_url = f\"https://api.spotify.com/v1/artists/{artist_id}/top-tracks?market={market}\"\n",
    "        headers = {\"Authorization\": f\"Bearer {access_token}\"}\n",
    "        response = requests.get(top_tracks_url, headers=headers)\n",
    "        response.raise_for_status()\n",
    "        data = response.json()\n",
    "\n",
    "        \n",
    "        for track in data['tracks']:\n",
    "            artist_name = data[\"tracks\"][0][\"artists\"][0][\"name\"]\n",
    "            top_tracks.append({\n",
    "                \"artist_name\": artist_name,\n",
    "                \"track_name\": track['name'],\n",
    "                \"popularity\": track['popularity'],\n",
    "                \"track_url\": track['external_urls']['spotify']\n",
    "            })\n",
    "    return top_tracks"
   ]
  },
  {
   "cell_type": "markdown",
   "metadata": {},
   "source": [
    "Finally, the functions above are called to make the calls to the API, retrieve the data, and store it into two dataframes:"
   ]
  },
  {
   "cell_type": "code",
   "execution_count": null,
   "metadata": {},
   "outputs": [],
   "source": [
    "def main(artist_name, market):\n",
    "    access_token = get_spotify_access_token()\n",
    "    artist_id = get_artist_id(artist_name, access_token)\n",
    "    if artist_id:\n",
    "        related_artists = get_related_artists(artist_id, access_token)\n",
    "        artist_ids = [artist['id'] for artist in related_artists]\n",
    "        top_tracks = get_top_tracks_for_artists(artist_ids, access_token, market)\n",
    "\n",
    "        top_tracks_df = pd.DataFrame(top_tracks)\n",
    "        related_artists_df = pd.DataFrame(related_artists)\n",
    "\n",
    "        return top_tracks_df, related_artists_df\n",
    "\n",
    "    else:\n",
    "        return pd.DataFrame(), pd.DataFrame()"
   ]
  },
  {
   "cell_type": "markdown",
   "metadata": {},
   "source": [
    "This project continues on [Shiny App: Song Suggester, part II: Building the app in R](https://github.com/zefrios/RShiny/blob/29623bc0c81f05c15c3983a7b232b8e3b474748c/Spotify_ArtistSuggestionsApp/Notebook_ShinyApp.ipynb)"
   ]
  },
  {
   "cell_type": "markdown",
   "metadata": {},
   "source": [
    "  \n",
    "\n",
    "\n",
    "***\n"
   ]
  }
 ],
 "metadata": {
  "kernelspec": {
   "display_name": ".venv",
   "language": "python",
   "name": "python3"
  },
  "language_info": {
   "codemirror_mode": {
    "name": "ipython",
    "version": 3
   },
   "file_extension": ".py",
   "mimetype": "text/x-python",
   "name": "python",
   "nbconvert_exporter": "python",
   "pygments_lexer": "ipython3",
   "version": "3.8.0"
  }
 },
 "nbformat": 4,
 "nbformat_minor": 2
}
